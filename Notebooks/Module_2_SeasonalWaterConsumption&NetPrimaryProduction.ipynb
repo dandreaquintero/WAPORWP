{
 "cells": [
  {
   "cell_type": "markdown",
   "metadata": {},
   "source": [
    "\n",
    "# Module 2 - In this jupyter notebook, the seasonal T, ET, RET, NPP are calculated \n",
    "\n",
    "* Step 2a - Set up: Import modules/libraries, inport data, create output folder\n",
    "* Step 2b - Defining function \n",
    "* Step 2c - Calculate seasonal T, ET, RET, ETp, NPP\n",
    "\n",
    "**=====================================================================================================================**\n",
    "\n",
    "![title](img/Fig2_1.png)\n",
    "\n",
    "**=====================================================================================================================**"
   ]
  },
  {
   "cell_type": "markdown",
   "metadata": {},
   "source": [
    "## Step 2a - Set up"
   ]
  },
  {
   "cell_type": "markdown",
   "metadata": {},
   "source": [
    "## i) Import modules/libraries"
   ]
  },
  {
   "cell_type": "code",
   "execution_count": 1,
   "metadata": {},
   "outputs": [],
   "source": [
    "import os                                 # a module for interacting with the operating system\n",
    "import sys\n",
    "import glob                               # used to retrieve files/pathnames matching a specified pattern\n",
    "import re                                 # re sub() module can be used to replace substring\n",
    "\n",
    "import pandas as pd                       # to store and manipulate tabular data in rows of observations and columns of variables\n",
    "import numpy as np                        # stands for 'Numerical Python, is a python library used for scientific computing with arrays\n",
    "import calendar\n",
    "import datetime\n",
    "from matplotlib import pyplot as plt      # is a plotting library used for 2D graphics in python \n",
    "\n",
    "# change the directory to where the modules are saved\n",
    "os.chdir(os.path.join(os.path.split(os.getcwd())[0], \"Modules\"))\n",
    "from GIS_functions import GIS_function as gis"
   ]
  },
  {
   "cell_type": "markdown",
   "metadata": {},
   "source": [
    "## ii) Import the input data:\n",
    "* WaPOR data (T, AETI, REF, NPP), \n",
    "* Dates corresponding to the raster layer and \n",
    "* Start and end of cropseason and crop coefficient (Kc) of crop"
   ]
  },
  {
   "cell_type": "markdown",
   "metadata": {},
   "source": [
    "## * Import raster (WaPOR) data"
   ]
  },
  {
   "cell_type": "code",
   "execution_count": 2,
   "metadata": {},
   "outputs": [],
   "source": [
    "dir_proj = os.path.split(os.getcwd())[0]  \n",
    "dir_data = \"Data\"\n",
    "\n",
    "# transpiration, evapotranspiration & interceptio and reference evapotranspiration\n",
    "input_folderT = os.path.join(dir_proj, dir_data, \"1_L2_T_filtered\") \n",
    "input_fhsT = glob.glob(input_folderT + '\\*.tif')  # glob.glob returns the list of files with their full path\n",
    "\n",
    "input_folderET = os.path.join(dir_proj, dir_data, \"1_L2_AETI_filtered\") \n",
    "input_fhsET = glob.glob(input_folderET + '\\*.tif')   \n",
    "\n",
    "input_folderRET = os.path.join(dir_proj, dir_data, \"1_L1_RET_filtered\") \n",
    "input_fhsRET = glob.glob(input_folderRET + '\\*.tif')\n",
    "\n",
    "input_folderNPP = os.path.join(dir_proj, dir_data, \"1_L2_NPP_filtered\") \n",
    "input_fhsNPP = glob.glob(input_folderNPP + '\\*.tif')"
   ]
  },
  {
   "cell_type": "markdown",
   "metadata": {},
   "source": [
    "## ** Import the dates corresponding to the raster layers of WaPOR (cube code)\n",
    "\n",
    "![title](img/Fig2_2.jpg), ![title](img/Fig2_3.png)\n",
    "\n",
    "* Running the following cell activate the 'WaPOR' module that requires internet connection and takes longtime to download the the catalog \n",
    "* <span style='background :lightgreen' > **Run the cell only one time, if the latest date in the 'time_range' is updated.**\n",
    "* <span style='background :pink' > While running this section for the first time, the the catalog info is saved in the working directory in excel file (e.g. df_availET.xlsx).\n",
    "* <span style='background :pink' > Running the notebook for the second time should skip this cell, but run the next one (# read the df_avial from already saved excel under the Data) "
   ]
  },
  {
   "cell_type": "code",
   "execution_count": 3,
   "metadata": {},
   "outputs": [],
   "source": [
    "import os \n",
    "os.chdir(os.path.join(os.path.split(os.getcwd())[0], \"Modules\"))\n",
    "import WaPOR                                # API to interact with WaPOR portal\n",
    "WaPOR.API.version = 2\n",
    "\n",
    "# read the cube info (dataframe) from the cataloge \n",
    "cube_codeT   = 'L2_T_D' \n",
    "cube_codeET  = 'L2_AETI_D' \n",
    "cube_codeRET = 'L1_RET_D' \n",
    "cube_codeNPP = 'L2_NPP_D' \n",
    "\n",
    "time_range   = '2009-01-01,2019-12-31'\n",
    "\n",
    "df_availT    = WaPOR.API.getAvailData(cube_codeT,   time_range)\n",
    "df_availET   = WaPOR.API.getAvailData(cube_codeET,  time_range)\n",
    "df_availRET  = WaPOR.API.getAvailData(cube_codeRET, time_range)\n",
    "df_availNPP  = WaPOR.API.getAvailData(cube_codeNPP, time_range)\n",
    "\n",
    "# save the dataframe to excel to access it offline\n",
    "output_folder = os.path.join(os.path.split(os.getcwd())[0], \"Data\") \n",
    "\n",
    "df_availT.to_excel(os.path.join(output_folder,   'df_availT.xlsx'))\n",
    "df_availET.to_excel(os.path.join(output_folder,  'df_availET.xlsx'))\n",
    "df_availRET.to_excel(os.path.join(output_folder, 'df_availRET.xlsx'))\n",
    "df_availNPP.to_excel(os.path.join(output_folder, 'df_availNPP.xlsx'))\n",
    "\n",
    "# Get personaL WAPOR API Token by registering in the top right cornor of the page: wapor.apps.fao.org/home/1"
   ]
  },
  {
   "cell_type": "code",
   "execution_count": 4,
   "metadata": {},
   "outputs": [],
   "source": [
    "# read the df_avial from already saved excel \n",
    "\n",
    "time_range  = '2009-01-01,2019-12-31'\n",
    "\n",
    "df_availT   = pd.read_excel('../data/df_availT.xlsx')\n",
    "df_availET  = pd.read_excel('../data/df_availET.xlsx')\n",
    "df_availRET = pd.read_excel('../data/df_availRET.xlsx')\n",
    "df_availNPP = pd.read_excel('../data/df_availNPP.xlsx')"
   ]
  },
  {
   "cell_type": "markdown",
   "metadata": {},
   "source": [
    "## *** Define and import the Start Of crop Season (SOS) and End Of crop Season (EOS)\n",
    "* Edit the start and end of crop seasons **in the df_SOsEos.xlsx file in the data folder**\n",
    "* You can add or delete rows depending on the number of seasons "
   ]
  },
  {
   "cell_type": "code",
   "execution_count": 5,
   "metadata": {},
   "outputs": [],
   "source": [
    "df_dates = pd.read_excel('../data/df_SosEos.xlsx')\n",
    "df_dates"
   ]
  },
  {
   "cell_type": "markdown",
   "metadata": {},
   "source": [
    "## **** Define and import the Kc per month\n",
    "* Edit the **months** the corresponding **Kc** value in the order of start of crop season (inital stage) to end of crop season (late-season stage) **in the df_Kc.xlsx file in the data folder**\n",
    "* The rows should be for months within the duration of the crop season \n",
    "* The figure below shows the Kc curve of a sugarcane, given as example\n",
    "![title](img/Fig3_2.PNG)"
   ]
  },
  {
   "cell_type": "code",
   "execution_count": 6,
   "metadata": {},
   "outputs": [],
   "source": [
    "df_kc = pd.read_excel('../data/df_Kc.xlsx')\n",
    "df_kc "
   ]
  },
  {
   "cell_type": "markdown",
   "metadata": {},
   "source": [
    "## iii) Output folder: Make one or connect to the existing one"
   ]
  },
  {
   "cell_type": "code",
   "execution_count": 7,
   "metadata": {},
   "outputs": [],
   "source": [
    "# the directory of the output folder\n",
    "dir_proj = os.path.split(os.getcwd())[0]  \n",
    "dir_data = \"Data\"\n",
    "output_folderT           = os.path.join(dir_proj, dir_data, \"2L2_T_season\") \n",
    "output_folderET          = os.path.join(dir_proj, dir_data, \"2L2_AETI_season\") \n",
    "output_folderRET         = os.path.join(dir_proj, dir_data, \"2L1_RET_season\") \n",
    "output_folderRET_month   = os.path.join(dir_proj, dir_data, \"2L1_RET_month\")    \n",
    "output_folderETp         = os.path.join(dir_proj, dir_data, \"2L1_ETp_season\")    #ETp (= ETc) =Kc*REF\n",
    "output_folderNPP         = os.path.join(dir_proj, dir_data, \"2L2_NPP_season\") \n",
    "\n",
    "# Make one if the folder does not exit\n",
    "if not os.path.exists(output_folderT):\n",
    "    os.makedirs(output_folderT) \n",
    "if not os.path.exists(output_folderET):\n",
    "    os.makedirs(output_folderET) \n",
    "if not os.path.exists(output_folderRET):\n",
    "    os.makedirs(output_folderRET)  \n",
    "if not os.path.exists(output_folderRET_month):\n",
    "    os.makedirs(output_folderRET_month)\n",
    "if not os.path.exists(output_folderETp):\n",
    "    os.makedirs(output_folderETp) \n",
    "if not os.path.exists(output_folderNPP):\n",
    "    os.makedirs(output_folderNPP) "
   ]
  },
  {
   "cell_type": "markdown",
   "metadata": {},
   "source": [
    "## Step 2b - Define function - the function that add rasters between two dates"
   ]
  },
  {
   "cell_type": "code",
   "execution_count": 8,
   "metadata": {},
   "outputs": [],
   "source": [
    "# summation of raster between two dates\n",
    "def SumSeason(input_fhs, saveSum, sowing_date, harvesting_date, df_avail):\n",
    "    \"\"\"\n",
    "    Add raster files (input_fhs) between sowing_date and harvesting_date.\n",
    "\n",
    "    IHE Delft 2019\n",
    "    Authors: a.chukalla@un-ihe.org\n",
    "    @author: Abebe Chukalla\n",
    "\n",
    "    Parameters\n",
    "    ----------\n",
    "    input_fhs : raster file\n",
    "        Files to be added.\n",
    "    saveSum : folder name\n",
    "        Folder name where the sum to be saved.\n",
    "    sowing_date : date in yyyy-mm-dd format\n",
    "        Starting date of crop growth.\n",
    "    harvesting_date : date in yyyy-mm-dd format\n",
    "        Harvesting date of crop.\n",
    "    df_avail : cube_code of the raster\n",
    "        Helps to read the date of each raster file.\n",
    "        \n",
    "    Returns\n",
    "    -------\n",
    "    Sums: array\n",
    "        Seasonal, sum of the raster files.\n",
    "    \"\"\"\n",
    "    period_dates = pd.date_range(sowing_date, harvesting_date, freq='D')  # generate dates b/n sowing and harvesting dates\n",
    "    period_fhs   = []\n",
    "\n",
    "    # collect the rasters if they are within sowing and harvesting date\n",
    "    for in_fh in input_fhs:\n",
    "        # get raster id from file name\n",
    "        raster_id = os.path.split(in_fh)[-1].split('.')[0]               \n",
    "        # get raster info using raster id\n",
    "        raster_info = df_avail.loc[df_avail['raster_id']==raster_id]      # the time_code corresponding to raster id\n",
    "        # get start and end date of raster\n",
    "        raster_startdate = raster_info['time_code'].iloc[0].split(',')[0] \n",
    "        raster_startdate = re.sub(r\"[[)]\", \"\", raster_startdate)          \n",
    "        raster_enddate = raster_info['time_code'].iloc[0].split(',')[-1]  \n",
    "        raster_enddate = re.sub(r\"[[)]\", \"\", raster_enddate)               \n",
    "        # check if raster belong to period\n",
    "        if ((raster_startdate in period_dates) or (raster_enddate in period_dates)):\n",
    "            period_fhs.append(in_fh)\n",
    "\n",
    "    # add the layers between the sowing and harvesting dates\n",
    "    period_fhs\n",
    "    period_fh = period_fhs[0]\n",
    "    Sums = 0\n",
    "    for period_fh in period_fhs:\n",
    "        Sum = gis.OpenAsArray(period_fh, nan_values=True)\n",
    "        Sums += Sum\n",
    "           \n",
    "    # save the array in raster format, name it with the raster_id and sowing and harvesting date\n",
    "    out_fh = os.path.join(saveSum, raster_id.split('_')[1] + '_' + str(sowing_date) + '_to_' + str(harvesting_date) + '.tif')        \n",
    "    gis.CreateGeoTiff(out_fh, Sums, driver, NDV, xsize, ysize, GeoT, Projection)  # Save the array 'Sums' as raster\n",
    "        \n",
    "    return Sums  "
   ]
  },
  {
   "cell_type": "markdown",
   "metadata": {},
   "source": [
    "## Step 2c - Calculate seasonal T, ET, RET, ETp, NPP"
   ]
  },
  {
   "cell_type": "markdown",
   "metadata": {},
   "source": [
    "## i) Calculate seasonal transpiration (T)"
   ]
  },
  {
   "cell_type": "code",
   "execution_count": 9,
   "metadata": {
    "scrolled": false
   },
   "outputs": [],
   "source": [
    "# collecting Geoinfo such as projection, the x and y axis\n",
    "in_fh = input_fhsT[0]  \n",
    "\n",
    "driver, NDV, xsize, ysize, GeoT, Projection = gis.GetGeoInfo(in_fh)\n",
    "spatial_extent = (GeoT[0], GeoT[0] + GeoT[1] * xsize, GeoT[3] + GeoT[5] * ysize, GeoT[3])  # get spatial extent of raster\n",
    "\n",
    "length = len(df_dates)  # length of season\n",
    "\n",
    "i = 0\n",
    "while i < length:  \n",
    "    # calculate the seasonal value and save in output_folderT\n",
    "    seasonal = SumSeason(input_fhsT, output_folderT, df_dates.SOS[i].date(), df_dates.EOS[i].date(), df_availT)\n",
    "   \n",
    "    # calculate the mean, SD\n",
    "    print ('the mean & SD for ',str(df_dates.SOS[i].date()) + '/' + str(df_dates.EOS[i].date()), '=', np.nanmean(seasonal).round(1),'&',np.nanstd(seasonal).round(1))\n",
    "\n",
    "    # Plot the raster map\n",
    "    plt.figure(figsize = (12,8))\n",
    "    plt.imshow(seasonal, cmap='jet_r', vmin=np.nanmin(seasonal), vmax=np.nanmax(seasonal), extent=spatial_extent)\n",
    "    plt.colorbar(shrink=0.75, label='T [mm/season]')\n",
    "    plt.xlabel('Longitude ($^{\\circ}$ East)', fontsize=14)  # add axes label\n",
    "    plt.ylabel('Latitude ($^{\\circ}$ North)', fontsize=14)\n",
    "    plt.title('Transpiration [mm/season] ' + str(df_dates.SOS[i].date()) + '/' + str(df_dates.EOS[i].date()), fontsize=16)\n",
    "    plt.clim(0,1500)\n",
    "    plt.show ()\n",
    "    \n",
    "    i += 1\n",
    "    ;"
   ]
  },
  {
   "cell_type": "markdown",
   "metadata": {},
   "source": [
    "## ii) Calculate seasonal evapotratranspiration"
   ]
  },
  {
   "cell_type": "code",
   "execution_count": 10,
   "metadata": {
    "scrolled": false
   },
   "outputs": [],
   "source": [
    "# collecting Geoinfo such as projection, the x and y axis\n",
    "in_fh = input_fhsET[0]    \n",
    "\n",
    "driver, NDV, xsize, ysize, GeoT, Projection = gis.GetGeoInfo(in_fh)\n",
    "spatial_extent = (GeoT[0], GeoT[0] + GeoT[1] * xsize, GeoT[3] + GeoT[5] * ysize, GeoT[3])  # get spatial extent of raster\n",
    "\n",
    "length = len(df_dates)  # length of seasonn\n",
    "                \n",
    "i = 0\n",
    "while i < length:    \n",
    "    # calculate the seasonal value and save in output_folder\n",
    "    seasonal = SumSeason(input_fhsET, output_folderET, df_dates.SOS[i].date(), df_dates.EOS[i].date(), df_availET)\n",
    "    \n",
    "    # calculate the mean, SD\n",
    "    print ('the mean & SD for ',str(df_dates.SOS[i].date()) + '/' + str(df_dates.EOS[i].date()), '=', np.nanmean(seasonal).round(1),'&',np.nanstd(seasonal).round(1))\n",
    "\n",
    "    # Plot the raster map\n",
    "    plt.figure(figsize = (12,8))\n",
    "    plt.imshow(seasonal, cmap='jet_r', vmin=np.nanmin(seasonal), vmax=np.nanmax(seasonal), extent=spatial_extent)\n",
    "    plt.colorbar(shrink=0.75, label='ETa [mm/season]')\n",
    "    plt.xlabel('Longitude ($^{\\circ}$ East)', fontsize=14)  # add axes label\n",
    "    plt.ylabel('Latitude ($^{\\circ}$ North)', fontsize=14)\n",
    "    plt.title('Actual evapotranspiration [mm/season] ' + str(df_dates.SOS[i].date()) + '/' + str(df_dates.EOS[i].date()), fontsize=16)\n",
    "    plt.clim(0,1600)\n",
    "    plt.show()\n",
    "\n",
    "    i += 1\n",
    "    ;"
   ]
  },
  {
   "cell_type": "markdown",
   "metadata": {},
   "source": [
    "## iii) Calculate seasonal Reference Evapotranspiration(RET)"
   ]
  },
  {
   "cell_type": "code",
   "execution_count": 11,
   "metadata": {
    "scrolled": false
   },
   "outputs": [],
   "source": [
    "# collecting Geoinfo such as projection, the x and y axis\n",
    "in_fh = input_fhsRET[0]\n",
    "driver, NDV, xsize, ysize, GeoT, Projection = gis.GetGeoInfo(in_fh)\n",
    "spatial_extent = (GeoT[0], GeoT[0] + GeoT[1] * xsize, GeoT[3] + GeoT[5] * ysize, GeoT[3])  # get spatial extent of raster\n",
    "\n",
    "length = len(df_dates)  # length of season\n",
    "\n",
    "i = 0\n",
    "while i < length:    \n",
    "    # calculate the seasonal value and save in output_folder\n",
    "    seasonal = SumSeason(input_fhsRET, output_folderRET, df_dates.SOS[i].date(), df_dates.EOS[i].date(), df_availRET)\n",
    "\n",
    "    # calculate the mean, SD\n",
    "    print ('the mean & SD for ',str(df_dates.SOS[i].date()) + '/' + str(df_dates.EOS[i].date()), '=', np.nanmean(seasonal).round(1),'&',np.nanstd(seasonal).round(1))\n",
    "    \n",
    "    # Plot the raster map\n",
    "    plt.figure(figsize = (12,8))\n",
    "    plt.imshow(seasonal, cmap='jet_r', vmin=np.nanmin(seasonal), vmax=np.nanmax(seasonal), extent=spatial_extent)\n",
    "    plt.colorbar(shrink=0.75, label='REF [mm/season]')\n",
    "    plt.xlabel('Longitude ($^{\\circ}$ East)', fontsize=14)  # add axes label\n",
    "    plt.ylabel('Latitude ($^{\\circ}$ North)', fontsize=14)\n",
    "    plt.title('Reference evapotranspiration [mm/season] ' + str(df_dates.SOS[i].date()) + '/' + str(df_dates.EOS[i].date()), fontsize=16)\n",
    "    plt.show ()\n",
    "\n",
    "    i += 1\n",
    "    ;"
   ]
  },
  {
   "cell_type": "markdown",
   "metadata": {},
   "source": [
    "## iv) Calculate seasonal ETp(ETc) = Kc*RET"
   ]
  },
  {
   "cell_type": "code",
   "execution_count": 12,
   "metadata": {
    "scrolled": false
   },
   "outputs": [],
   "source": [
    "# collecting Geoinfo such as projection, the x and y axis\n",
    "in_fh = input_fhsRET[0]\n",
    "driver, NDV, xsize, ysize, GeoT, Projection = gis.GetGeoInfo(in_fh)\n",
    "spatial_extent = (GeoT[0], GeoT[0] + GeoT[1] * xsize, GeoT[3] + GeoT[5] * ysize, GeoT[3])  # get spatial extent of raster\n",
    "\n",
    "length = len(df_dates)  # length of season\n",
    "\n",
    "i = 0\n",
    "while i < length:\n",
    "    date_s  = df_dates.SOS[i].date()   # the starting date of the season (SOS)\n",
    "    #ETc_total[i] = 0\n",
    "    print ('Monthly ETo, ETc in mm/month and Kc[-] in ', date_s.year)\n",
    "    seasonal = 0\n",
    "    while date_s < df_dates.EOS[i].date():    # loop in the range of SOS and EOS of the active season 'i' \n",
    "        # Increment by a month\n",
    "        days    = calendar.monthrange(date_s.year,date_s.month)[1] # Number of days in the active month\n",
    "        date_e  = date_s+datetime.timedelta(days=days-1)           # The end date of the active month\n",
    "        \n",
    "        m = date_s.strftime('%B')         # identify the name of the active month\n",
    "        kc_m =df_kc.loc[df_kc[\"Months\"] == m, 'Kc'].item()  # identify the kc value corresponding to a month\n",
    "           \n",
    "        # calculate the monthly value and save in output_folder\n",
    "        ET0 = SumSeason(input_fhsRET, output_folderRET_month, date_s, date_e, df_availRET) # adding reference ET in the active month\n",
    "        ETc = kc_m*ET0    # calculate monthly ETP (ETc)\n",
    "\n",
    "        print (date_s.year, m, np.nanmean(ET0).round(1), np.nanmean(ETc).round(1), kc_m)\n",
    "        date_s  = date_e+datetime.timedelta(days=1)   # First day of the next month\n",
    "        seasonal+= ETc\n",
    "    \n",
    "    # save the seasonal array in raster format, name it with the raster name, sowing and harvesting date\n",
    "    out_fh = os.path.join(output_folderETp, 'ETc_' + str(df_dates.SOS[i].date()) + '_to_' + str(df_dates.EOS[i].date()) + '.tif')        \n",
    "    gis.CreateGeoTiff(out_fh, seasonal, driver, NDV, xsize, ysize, GeoT, Projection)  # Save the array 'Sums' as raster\n",
    "    print ('The mean seasonal ETc [mm] in ', date_s.year, ' is ', np.nanmean(seasonal).round(1))\n",
    "\n",
    "    # Plot the raster map\n",
    "    plt.figure(figsize = (12,8))\n",
    "    plt.imshow(seasonal, cmap='jet_r', vmin=np.nanmin(seasonal), vmax=np.nanmax(seasonal), extent=spatial_extent)\n",
    "    plt.colorbar(shrink=0.75, label='ETc=Kc*ETo [mm/season]')\n",
    "    plt.xlabel('Longitude ($^{\\circ}$ East)', fontsize=12)  # add axes label\n",
    "    plt.ylabel('Latitude ($^{\\circ}$ North)', fontsize=12)\n",
    "    plt.title('ETc ' + str(df_dates.SOS[i].date()) + '/' + str(df_dates.EOS[i].date()), fontsize=12)\n",
    "    plt.clim()\n",
    "    plt.show ()\n",
    "\n",
    "    i += 1\n",
    "    ;"
   ]
  },
  {
   "cell_type": "markdown",
   "metadata": {},
   "source": [
    "## v) Calculate seasonal Net Primary Production (NPP)"
   ]
  },
  {
   "cell_type": "code",
   "execution_count": 13,
   "metadata": {
    "scrolled": false
   },
   "outputs": [],
   "source": [
    "# collecting Geoinfo such as projection, the x and y axis\n",
    "in_fh = input_fhsNPP[0]\n",
    "\n",
    "driver, NDV, xsize, ysize, GeoT, Projection = gis.GetGeoInfo(in_fh)\n",
    "spatial_extent = (GeoT[0], GeoT[0] + GeoT[1] * xsize, GeoT[3] + GeoT[5] * ysize, GeoT[3])  # get spatial extent of raster\n",
    "\n",
    "length = len(df_dates)  # length of season\n",
    "\n",
    "i = 0\n",
    "while i < length:\n",
    "    # calculate the seasonal value and save in output_folder\n",
    "    seasonal = SumSeason(input_fhsNPP, output_folderNPP, df_dates.SOS[i].date(), df_dates.EOS[i].date(), df_availNPP)\n",
    "\n",
    "    # calculate the mean, SD\n",
    "    print ('the mean & SD for ',str(df_dates.SOS[i].date()) + '/' + str(df_dates.EOS[i].date()), '=', np.nanmean(seasonal).round(1),'&',np.nanstd(seasonal).round(1))\n",
    "    \n",
    "    # Plot the raster map\n",
    "    plt.figure(figsize = (12,8))\n",
    "    plt.imshow(seasonal, cmap='jet_r', vmin=np.nanmin(seasonal), vmax=np.nanmax(seasonal), extent=spatial_extent)\n",
    "    plt.colorbar(shrink=0.75, label='NPP [gC/m2/season]')\n",
    "    plt.xlabel('Longitude ($^{\\circ}$ East)', fontsize=14)  # add axes label\n",
    "    plt.ylabel('Latitude ($^{\\circ}$ North)', fontsize=14)\n",
    "    plt.title('Net primary production [gC/m2/season] ' + str(df_dates.SOS[i].date()) + '/' + str(df_dates.EOS[i].date()), fontsize=16)\n",
    "    plt.show ()\n",
    "    \n",
    "    i += 1 \n",
    "    ;"
   ]
  }
 ],
 "metadata": {
  "kernelspec": {
   "display_name": "Python 3",
   "language": "python",
   "name": "python3"
  },
  "language_info": {
   "codemirror_mode": {
    "name": "ipython",
    "version": 3
   },
   "file_extension": ".py",
   "mimetype": "text/x-python",
   "name": "python",
   "nbconvert_exporter": "python",
   "pygments_lexer": "ipython3",
   "version": "3.7.7"
  }
 },
 "nbformat": 4,
 "nbformat_minor": 2
}
