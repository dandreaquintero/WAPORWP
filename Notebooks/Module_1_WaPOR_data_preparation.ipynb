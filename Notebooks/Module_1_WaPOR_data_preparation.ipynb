{
 "cells": [
  {
   "cell_type": "markdown",
   "metadata": {},
   "source": [
    "# Module 1 - In this jupyter notebook, resampling and masking are undertaken as part of preparing the data for further analyses. \n",
    "* Step 1a - Import modules/libraries\n",
    "* Step 1b - Resampling raster data and \n",
    "* Step 1c - Filter non-cropped area \n",
    "\n",
    "**=====================================================================================================================**\n",
    "\n",
    "![title](img/Fig1_1.png)\n",
    "\n",
    "**=====================================================================================================================**"
   ]
  },
  {
   "cell_type": "markdown",
   "metadata": {
    "slideshow": {
     "slide_type": "skip"
    }
   },
   "source": [
    "## Step 1a - Import modules/libraries"
   ]
  },
  {
   "cell_type": "code",
   "execution_count": 1,
   "metadata": {},
   "outputs": [],
   "source": [
    "import os                             # a module for interacting with the operating system\n",
    "import glob                           # used to retrieve files/pathnames matching a specified pattern\n",
    "import matplotlib.pyplot as plt       # is a plotting library used for 2D graphics in python \n",
    "import numpy as np                    # stands for 'Numerical Python, is a python library used for scientific computing with arrays\n",
    "from osgeo import ogr, gdal\n",
    "import subprocess\n",
    "\n",
    "os.chdir(os.path.join(os.path.split(os.getcwd())[0], \"Modules\"))\n",
    "from GIS_functions import GIS_function as gis"
   ]
  },
  {
   "cell_type": "markdown",
   "metadata": {},
   "source": [
    "# Step 1b - Reample raster data"
   ]
  },
  {
   "cell_type": "markdown",
   "metadata": {},
   "source": [
    "## i) Resample ET reference "
   ]
  },
  {
   "cell_type": "markdown",
   "metadata": {},
   "source": [
    "## * Import the input data "
   ]
  },
  {
   "cell_type": "code",
   "execution_count": 2,
   "metadata": {},
   "outputs": [],
   "source": [
    "dir_proj = os.path.split(os.getcwd())[0] \n",
    "dir_data = \"Data\"\n",
    "    \n",
    "source_file   = os.path.join(dir_proj, dir_data,   \"WAPOR.v2_mm-dekad-1_L2_AETI_D\", \"L2_AETI_0901.tif\") # Read gdal info of template raster file  \n",
    "target_folder = os.path.join(dir_proj, dir_data,   \"WAPOR.v2_mm-dekad-1_L1_RET_D\")                      # data to be resampled \n",
    "target_fhs    = glob.glob(target_folder + '\\*.tif')\n",
    "\n",
    "source_file, target_fhs"
   ]
  },
  {
   "cell_type": "markdown",
   "metadata": {},
   "source": [
    "## The size and shape of the raster files"
   ]
  },
  {
   "cell_type": "code",
   "execution_count": 3,
   "metadata": {},
   "outputs": [],
   "source": [
    "## The size and shape of the raster files\n",
    "template   = gis.OpenAsArray(source_file, nan_values=True) \n",
    "original   = gis.OpenAsArray(target_fhs[0], nan_values=True)\n",
    "\n",
    "print ('The size & shape of the template raster      =', template.size,  '&', template.shape)\n",
    "print ('The size & shape of the data to be resampled =', original.size,  '&', original.shape)"
   ]
  },
  {
   "cell_type": "markdown",
   "metadata": {},
   "source": [
    "## ** Make or connect with the directory the output folder"
   ]
  },
  {
   "cell_type": "code",
   "execution_count": 4,
   "metadata": {},
   "outputs": [],
   "source": [
    "dir_proj = os.path.split(os.getcwd())[0] \n",
    "dir_data = \"Data\"\n",
    "\n",
    "output_folder = os.path.join(dir_proj, dir_data, \"1_L1_RET_D_resampled\") \n",
    "\n",
    "## Make one if the folder does not exit\n",
    "if not os.path.exists(output_folder):\n",
    "    os.makedirs(output_folder) \n",
    "    \n",
    "output_folder"
   ]
  },
  {
   "cell_type": "markdown",
   "metadata": {},
   "source": [
    "## *** Resample raster data"
   ]
  },
  {
   "cell_type": "code",
   "execution_count": 5,
   "metadata": {},
   "outputs": [],
   "source": [
    "Resample = gis.MatchProjResNDV (source_file, target_fhs, output_folder, resample = 'near', dtype = 'float32')"
   ]
  },
  {
   "cell_type": "code",
   "execution_count": 5,
   "metadata": {},
   "outputs": [],
   "source": [
    "## The size and shape of the resampled raster files\n",
    "Resampled   = os.path.join(dir_proj, dir_data,   \"1_L1_RET_D_resampled\", \"L1_RET_0901.tif\") \n",
    "resampled   = gis.OpenAsArray(Resampled , nan_values=True)\n",
    "\n",
    "print ('The size & shape of the resampled data =', resampled.size,  '&', resampled.shape)"
   ]
  },
  {
   "cell_type": "markdown",
   "metadata": {},
   "source": [
    "## ii) Resample Precipitation layers "
   ]
  },
  {
   "cell_type": "markdown",
   "metadata": {},
   "source": [
    "## * Import the input data "
   ]
  },
  {
   "cell_type": "code",
   "execution_count": null,
   "metadata": {},
   "outputs": [],
   "source": [
    "dir_proj = os.path.split(os.getcwd())[0] \n",
    "dir_data = \"Data\"\n",
    "    \n",
    "source_file   = os.path.join(dir_proj, dir_data,   \"WAPOR.v2_mm-dekad-1_L2_AETI_D\", \"L2_AETI_0901.tif\") # Read gdal info of template raster file  \n",
    "target_folder = os.path.join(dir_proj, dir_data,   \"WAPOR.v2_mm-dekad-1_L1_PCP_D\")                      # data to be resampled \n",
    "target_fhs    = glob.glob(target_folder + '\\*.tif')\n",
    "\n",
    "source_file, target_fhs"
   ]
  },
  {
   "cell_type": "markdown",
   "metadata": {},
   "source": [
    "## The size and shape of the raster files"
   ]
  },
  {
   "cell_type": "code",
   "execution_count": null,
   "metadata": {},
   "outputs": [],
   "source": [
    "## The size and shape of the raster files\n",
    "template   = gis.OpenAsArray(source_file, nan_values=True) \n",
    "original   = gis.OpenAsArray(target_fhs[0], nan_values=True)\n",
    "\n",
    "print ('The size & shape of the template raster      =', template.size,  '&', template.shape)\n",
    "print ('The size & shape of the data to be resampled =', original.size,  '&', original.shape)"
   ]
  },
  {
   "cell_type": "markdown",
   "metadata": {},
   "source": [
    "## ** Make or connect with the directory the output folder"
   ]
  },
  {
   "cell_type": "code",
   "execution_count": null,
   "metadata": {},
   "outputs": [],
   "source": [
    "dir_proj = os.path.split(os.getcwd())[0] \n",
    "dir_data = \"Data\"\n",
    "\n",
    "output_folder = os.path.join(dir_proj, dir_data, \"1_L1_PCP_D_resampled\") \n",
    "\n",
    "## Make one if the folder does not exit\n",
    "if not os.path.exists(output_folder):\n",
    "    os.makedirs(output_folder) \n",
    "    \n",
    "output_folder"
   ]
  },
  {
   "cell_type": "markdown",
   "metadata": {},
   "source": [
    "## *** Resample raster data"
   ]
  },
  {
   "cell_type": "code",
   "execution_count": null,
   "metadata": {},
   "outputs": [],
   "source": [
    "Resample = gis.MatchProjResNDV (source_file, target_fhs, output_folder, resample = 'near', dtype = 'float32')"
   ]
  },
  {
   "cell_type": "code",
   "execution_count": null,
   "metadata": {},
   "outputs": [],
   "source": [
    "## The size and shape of the resampled raster files\n",
    "Resampled   = os.path.join(dir_proj, dir_data,   \"1_L1_RET_D_resampled\", \"L1_RET_0901.tif\") \n",
    "resampled   = gis.OpenAsArray(Resampled , nan_values=True)\n",
    "\n",
    "print ('The size & shape of the resampled data =', resampled.size,  '&', resampled.shape)"
   ]
  },
  {
   "cell_type": "markdown",
   "metadata": {},
   "source": [
    "\n",
    "\n",
    "# Step 1c - Filiter non-croppped area using land cover map and project boundary\n",
    "\n",
    "### Land cover map\n",
    "In WaPOR LCC layer, pixel value **42** represents irrigated cropland (See https://wapor.apps.fao.org/catalog/2/L2_LCC_A). \n",
    "\n",
    "![title](img/Fig1_2.png)"
   ]
  },
  {
   "cell_type": "markdown",
   "metadata": {},
   "source": [
    "### Poject boundary  --- convert shapefile to raster"
   ]
  },
  {
   "cell_type": "code",
   "execution_count": 6,
   "metadata": {},
   "outputs": [],
   "source": [
    "# read shapefile and reference raster files\n",
    "dir_proj = os.path.split(os.getcwd())[0] \n",
    "dir_data = \"Data\"\n",
    "\n",
    "InputVector = r\"..\\Data\\1Boundary\\Shapefile\\Xinavane_1.shp\"             # the shapefile of the project\n",
    "RefImage    = r\"..\\Data\\WAPOR.v2_mm-dekad-1_L2_AETI_D\\L2_AETI_0901.tif\" # Reference raster to fix the the pixel size \n",
    "OutputImage = r'..\\Data\\1Boundary\\mask_irrigation_types.tif'            # name the output raste file 'mask_irrigation_types' and save it in the DAta/1Boundary..\n",
    "burnVal     = 1                                                         #value for the output image pixels"
   ]
  },
  {
   "cell_type": "code",
   "execution_count": 7,
   "metadata": {},
   "outputs": [],
   "source": [
    "# A script to rasterise a shapefile to the same projection & pixel resolution as a reference image.\n",
    "gdalformat = 'GTiff'\n",
    "datatype = gdal.GDT_Byte\n",
    "\n",
    "\n",
    "##########################################################\n",
    "# Get projection info from reference image\n",
    "Image = gdal.Open(RefImage, gdal.GA_ReadOnly)\n",
    "\n",
    "# Open Shapefile\n",
    "Shapefile = ogr.Open(InputVector)\n",
    "Shapefile_layer = Shapefile.GetLayer()\n",
    "\n",
    "# Rasterise\n",
    "print(\"Rasterising shapefile...\")\n",
    "Output = gdal.GetDriverByName(gdalformat).Create(OutputImage, Image.RasterXSize, Image.RasterYSize, 1, datatype, options=['COMPRESS=LZW'])\n",
    "Output.SetProjection(Image.GetProjectionRef())\n",
    "Output.SetGeoTransform(Image.GetGeoTransform()) \n",
    "\n",
    "# Write data to band 1\n",
    "Band = Output.GetRasterBand(1)\n",
    "Band.SetNoDataValue(0)\n",
    "gdal.RasterizeLayer(Output, [1], Shapefile_layer, burn_values=[burnVal])\n",
    "\n",
    "# Close datasets\n",
    "Band = None\n",
    "Output = None\n",
    "Image = None\n",
    "Shapefile = None\n",
    "\n",
    "# Build image overviews\n",
    "subprocess.call(\"gdaladdo --config COMPRESS_OVERVIEW DEFLATE \"+OutputImage+\" 2 4 8 16 32 64\", shell=True)\n",
    "print(\"Done.\")"
   ]
  },
  {
   "cell_type": "markdown",
   "metadata": {
    "scrolled": true
   },
   "source": [
    "## i) Import the input data "
   ]
  },
  {
   "cell_type": "code",
   "execution_count": 10,
   "metadata": {},
   "outputs": [],
   "source": [
    "dir_proj = os.path.split(os.getcwd())[0]  \n",
    "dir_data = \"Data\"\n",
    "\n",
    "# transpiration, evapotranspiration & interceptio and reference evapotranspiration\n",
    "input_folderT    = os.path.join(dir_proj, dir_data, \"WAPOR.v2_mm-dekad-1_L2_T_D\") \n",
    "input_fhsT       = glob.glob(input_folderT + '\\*.tif')  # glob.glob returns the list of files with their full path\n",
    "\n",
    "input_folderAETI = os.path.join(dir_proj, dir_data, \"WAPOR.v2_mm-dekad-1_L2_AETI_D\") \n",
    "input_fhsAETI    = glob.glob(input_folderAETI + '\\*.tif')   \n",
    "\n",
    "input_folderRET  = os.path.join(dir_proj, dir_data, \"1_L1_RET_D_resampled\") \n",
    "input_fhsRET     = glob.glob(input_folderRET + '\\*.tif')\n",
    "\n",
    "input_folderNPP  = os.path.join(dir_proj, dir_data, \"WAPOR.v2_mm-dekad-1_L2_NPP_D\") \n",
    "input_fhsNPP     = glob.glob(input_folderNPP + '\\*.tif')\n",
    "\n",
    "# Masks: landcover layers and the shape of the project area\n",
    "input_LCCfolder  = os.path.join(dir_proj, dir_data, \"WAPOR.v2_LCC_L2_LCC_A\") \n",
    "LCC_tifs         = glob.glob(input_LCCfolder + '\\*.tif')\n",
    "\n",
    "ProArea = gis.OpenAsArray(r'..\\Data\\1Boundary\\mask_irrigation_types.tif', nan_values=True)  # the project boundary/area (tif)"
   ]
  },
  {
   "cell_type": "markdown",
   "metadata": {},
   "source": [
    "## ii) Output folder: Make one or connect to the existing one"
   ]
  },
  {
   "cell_type": "code",
   "execution_count": 8,
   "metadata": {},
   "outputs": [],
   "source": [
    "dir_proj = os.path.split(os.getcwd())[0] \n",
    "dir_data = \"Data\"\n",
    "\n",
    "output_folderT    = os.path.join(dir_proj, dir_data, \"1_L2_T_filtered\")\n",
    "output_folderAETI = os.path.join(dir_proj, dir_data, \"1_L2_AETI_filtered\")\n",
    "output_folderRET  = os.path.join(dir_proj, dir_data, \"1_L1_RET_filtered\")\n",
    "output_folderNPP  = os.path.join(dir_proj, dir_data, \"1_L2_NPP_filtered\")\n",
    " \n",
    "\n",
    "## Make one if the folder does not exit\n",
    "if not os.path.exists(output_folderT):\n",
    "    os.makedirs(output_folderT) \n",
    "if not os.path.exists(output_folderAETI):\n",
    "    os.makedirs(output_folderAETI) \n",
    "if not os.path.exists(output_folderRET):\n",
    "    os.makedirs(output_folderRET) \n",
    "if not os.path.exists(output_folderNPP):\n",
    "    os.makedirs(output_folderNPP) \n",
    "    \n",
    "output_folderAETI, output_folderRET"
   ]
  },
  {
   "cell_type": "markdown",
   "metadata": {},
   "source": [
    "#### Plot project area "
   ]
  },
  {
   "cell_type": "code",
   "execution_count": 9,
   "metadata": {},
   "outputs": [],
   "source": [
    "### Plot project area \n",
    "Projectboundary = ProArea\n",
    "\n",
    "# Plot\n",
    "plt.figure(figsize = (12,6))\n",
    "plt.imshow(Projectboundary)                          \n",
    "plt.title('Project area')\n",
    "plt.show();"
   ]
  },
  {
   "cell_type": "markdown",
   "metadata": {},
   "source": [
    "#### Plot raster layer (before removing the non-cropped area)"
   ]
  },
  {
   "cell_type": "code",
   "execution_count": 10,
   "metadata": {},
   "outputs": [],
   "source": [
    "input_fhsAETI[0]"
   ]
  },
  {
   "cell_type": "code",
   "execution_count": 11,
   "metadata": {
    "scrolled": false
   },
   "outputs": [],
   "source": [
    "# Plot REF layer \n",
    "AETI_tif = gis.OpenAsArray(input_fhsAETI[0],nan_values=True)\n",
    "\n",
    "plt.figure(figsize = (12,8))\n",
    "plt.imshow(AETI_tif, cmap='RdYlGn')\n",
    "plt.colorbar(shrink=0.75, label=' [mm/dekadal]')\n",
    "plt.title('Downloaded AETI layer')\n",
    "plt.show()"
   ]
  },
  {
   "cell_type": "markdown",
   "metadata": {},
   "source": [
    "#### Plot raser layer on irrigated cropped land (masking out non-irrigated cropped land)"
   ]
  },
  {
   "cell_type": "code",
   "execution_count": 12,
   "metadata": {},
   "outputs": [],
   "source": [
    "LCC_tifs[0]"
   ]
  },
  {
   "cell_type": "code",
   "execution_count": 13,
   "metadata": {
    "scrolled": false
   },
   "outputs": [],
   "source": [
    "# Mask out the non-irrigated cropped land\n",
    "LCC       = gis.OpenAsArray(LCC_tifs[0],nan_values=True)  # land cover map\n",
    "AETI_crop = np.where((LCC==42), AETI_tif,np.nan)          # Show AETI on irrigated crop land, which has land class value of 42\n",
    "\n",
    "# Plot AETI on irrigated cropped land\n",
    "plt.figure(figsize = (12,8))\n",
    "plt.imshow(AETI_crop, cmap='RdYlGn')    \n",
    "plt.colorbar(shrink=0.75, label=' [mm/dekadal]')                          \n",
    "plt.title('AETI of the irrigated cropped land')\n",
    "plt.show()"
   ]
  },
  {
   "cell_type": "markdown",
   "metadata": {},
   "source": [
    "#### Plot raser layer on  irrigated cropped land and within the boundary of the scheme"
   ]
  },
  {
   "cell_type": "code",
   "execution_count": 14,
   "metadata": {
    "scrolled": false
   },
   "outputs": [],
   "source": [
    "# Mask out the non-irrigated cropped land and area outside the scheme boundary\n",
    "AETI_boundary = np.where((LCC==42)& (ProArea==1),AETI_tif,np.nan) # masking out the non-irrigated crop land and areas outside the projedct area\n",
    "\n",
    "# Plot\n",
    "plt.figure(figsize = (12,8))\n",
    "plt.imshow(AETI_boundary, cmap='RdYlGn')   \n",
    "plt.colorbar(shrink=0.75, label=' [mm/dekadal]')                          \n",
    "plt.title('AETI of the irrigated project')\n",
    "plt.show()"
   ]
  },
  {
   "cell_type": "markdown",
   "metadata": {},
   "source": [
    "## iii) Filter non-croppped area using land cover map and project boundary"
   ]
  },
  {
   "cell_type": "markdown",
   "metadata": {},
   "source": [
    "* LCC     = for instance # 42 is the land cover class of crop land under irrigation water management\n",
    "* ProArea = 1 the raster value of the project area in tiff format"
   ]
  },
  {
   "cell_type": "markdown",
   "metadata": {},
   "source": [
    "### Filter transpiration layers"
   ]
  },
  {
   "cell_type": "code",
   "execution_count": 15,
   "metadata": {},
   "outputs": [],
   "source": [
    "# collecting Geoinfo such as projection, the x and y axis\n",
    "in_fh = input_fhsT[0]     \n",
    "driver, NDV, xsize, ysize, GeoT, Projection = gis.GetGeoInfo(in_fh)\n",
    "spatial_extent = (GeoT[0], GeoT[0] + GeoT[1] * xsize, GeoT[3] + GeoT[5] * ysize, GeoT[3])  # get spatial extent of raster\n",
    "\n",
    "for Tfh in input_fhsT: \n",
    "    for LCCfh in LCC_tifs:\n",
    "        T   = gis.OpenAsArray(Tfh,  nan_values=True)\n",
    "        LCC = gis.OpenAsArray(LCCfh, nan_values=True)\n",
    "        basename1  = os.path.basename(Tfh).split('_')[2].split('.')[0]    #L2_T_0901.tif, 0901.tif, 0901\n",
    "        basename1  = int(str(basename1)[:2])                              # 09\n",
    "\n",
    "        basename2  = os.path.basename(LCCfh).split('_')[2].split('.')[0]   #L2_LCC_09.tif, 09.tif, 09\n",
    "        \n",
    "        if basename1 == int(basename2):     #compare the year of the LCC and the raster layer (T)\n",
    "            \n",
    "            # masking out the non-irrigated crop land and areas outside the projedct area\n",
    "            T   = np.where((LCC==42)& (ProArea==1),T,np.nan) \n",
    "            \n",
    "            # update the file name, and save into output folder\n",
    "            basename  = os.path.basename(Tfh)\n",
    "            output_fn = os.path.join(output_folderT, basename)\n",
    "            gis.CreateGeoTiff(output_fn, T, driver, NDV, xsize, ysize, GeoT, Projection) "
   ]
  },
  {
   "cell_type": "markdown",
   "metadata": {},
   "source": [
    "### Filter evapotranspiration layers"
   ]
  },
  {
   "cell_type": "code",
   "execution_count": 16,
   "metadata": {},
   "outputs": [],
   "source": [
    "# collecting Geoinfo such as projection, the x and y axis\n",
    "in_fh = input_fhsAETI[0]   \n",
    "driver, NDV, xsize, ysize, GeoT, Projection = gis.GetGeoInfo(in_fh)\n",
    "spatial_extent = (GeoT[0], GeoT[0] + GeoT[1] * xsize, GeoT[3] + GeoT[5] * ysize, GeoT[3])  # get spatial extent of raster\n",
    "\n",
    "for AETIfh in input_fhsAETI:\n",
    "    for LCCfh in LCC_tifs:\n",
    "        AETI = gis.OpenAsArray(AETIfh,  nan_values=True)\n",
    "        LCC = gis.OpenAsArray(LCCfh, nan_values=True)\n",
    "        basename1  = os.path.basename(AETIfh).split('_')[2].split('.')[0]   \n",
    "        basename1  = int(str(basename1)[:2])                             \n",
    "\n",
    "        basename2  = os.path.basename(LCCfh).split('_')[2].split('.')[0]   \n",
    "        \n",
    "        if basename1 == int(basename2):     #compare the year of the LCC and the raster layer (AETI)\n",
    "            \n",
    "            # masking out the non-irrigated crop land and areas outside the projedct area\n",
    "            AETI = np.where((LCC==42)& (ProArea==1),AETI,np.nan)     \n",
    "    \n",
    "            # update the file name, and save into output folder\n",
    "            basename  = os.path.basename(AETIfh)\n",
    "            output_fn = os.path.join(output_folderAETI, basename)\n",
    "            gis.CreateGeoTiff(output_fn, AETI, driver, NDV, xsize, ysize, GeoT, Projection) "
   ]
  },
  {
   "cell_type": "markdown",
   "metadata": {},
   "source": [
    "### Filter reference evapotranspiration layers"
   ]
  },
  {
   "cell_type": "code",
   "execution_count": 17,
   "metadata": {},
   "outputs": [],
   "source": [
    "# collecting Geoinfo such as projection, the x and y axis\n",
    "in_fh = input_fhsRET[0]   \n",
    "driver, NDV, xsize, ysize, GeoT, Projection = gis.GetGeoInfo(in_fh)\n",
    "spatial_extent = (GeoT[0], GeoT[0] + GeoT[1] * xsize, GeoT[3] + GeoT[5] * ysize, GeoT[3])  # get spatial extent of raster\n",
    "\n",
    "for RETfh in input_fhsRET:\n",
    "    for LCCfh in LCC_tifs:\n",
    "        RET = gis.OpenAsArray(RETfh,  nan_values=True)\n",
    "        LCC = gis.OpenAsArray(LCCfh, nan_values=True)\n",
    "        basename1  = os.path.basename(RETfh).split('_')[2].split('.')[0]   \n",
    "        basename1  = int(str(basename1)[:2])                              \n",
    "\n",
    "        basename2  = os.path.basename(LCCfh).split('_')[2].split('.')[0]  \n",
    "        \n",
    "        if basename1 == int(basename2):     #compare the year of the LCC and the raster layer (REF)\n",
    "            \n",
    "            # masking out the non-irrigated crop land and areas outside the projedct area\n",
    "            RET = np.where((LCC==42)& (ProArea==1),RET,np.nan)     \n",
    "        \n",
    "            # update the file name, and save into output folder\n",
    "            basename  = os.path.basename(RETfh)\n",
    "            output_fn = os.path.join(output_folderRET, basename)\n",
    "            gis.CreateGeoTiff(output_fn, RET, driver, NDV, xsize, ysize, GeoT, Projection) "
   ]
  },
  {
   "cell_type": "markdown",
   "metadata": {},
   "source": [
    "### Filter NPP layers"
   ]
  },
  {
   "cell_type": "code",
   "execution_count": 18,
   "metadata": {},
   "outputs": [],
   "source": [
    "# collecting Geoinfo such as projection, the x and y axis\n",
    "in_fh = input_fhsNPP[0]   \n",
    "driver, NDV, xsize, ysize, GeoT, Projection = gis.GetGeoInfo(in_fh)\n",
    "spatial_extent = (GeoT[0], GeoT[0] + GeoT[1] * xsize, GeoT[3] + GeoT[5] * ysize, GeoT[3])  # get spatial extent of raster\n",
    "\n",
    "for NPPfh in input_fhsNPP:\n",
    "    for LCCfh in LCC_tifs:\n",
    "        NPP = gis.OpenAsArray(NPPfh,  nan_values=True)\n",
    "        LCC = gis.OpenAsArray(LCCfh, nan_values=True)\n",
    "        basename1  = os.path.basename(NPPfh).split('_')[2].split('.')[0]    \n",
    "        basename1  = int(str(basename1)[:2])                             \n",
    "\n",
    "        basename2  = os.path.basename(LCCfh).split('_')[2].split('.')[0]   \n",
    "        \n",
    "        if basename1 == int(basename2):     \n",
    "            \n",
    "            # masking out the non-irrigated crop land and areas outside the projedct area\n",
    "            NPP = np.where((LCC==42)& (ProArea==1),NPP,np.nan)      \n",
    "            \n",
    "            # update the file name, and save into output folder\n",
    "            basename  = os.path.basename(NPPfh)\n",
    "            output_fn = os.path.join(output_folderNPP, basename)\n",
    "            gis.CreateGeoTiff(output_fn, NPP, driver, NDV, xsize, ysize, GeoT, Projection) "
   ]
  }
 ],
 "metadata": {
  "kernelspec": {
   "display_name": "Python 3",
   "language": "python",
   "name": "python3"
  },
  "language_info": {
   "codemirror_mode": {
    "name": "ipython",
    "version": 3
   },
   "file_extension": ".py",
   "mimetype": "text/x-python",
   "name": "python",
   "nbconvert_exporter": "python",
   "pygments_lexer": "ipython3",
   "version": "3.7.7"
  }
 },
 "nbformat": 4,
 "nbformat_minor": 2
}
